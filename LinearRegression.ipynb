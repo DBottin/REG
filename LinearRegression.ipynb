{
  "nbformat": 4,
  "nbformat_minor": 0,
  "metadata": {
    "colab": {
      "name": "LinearRegression.ipynb",
      "provenance": []
    },
    "kernelspec": {
      "name": "python3",
      "display_name": "Python 3"
    },
    "language_info": {
      "name": "python"
    }
  },
  "cells": [
    {
      "cell_type": "code",
      "execution_count": 1,
      "metadata": {
        "id": "ifUEYMI8FeZo"
      },
      "outputs": [],
      "source": [
        "import numpy as np\n",
        "import matplotlib.pyplot as plt\n",
        "import pandas as pd\n",
        "from sklearn.linear_model import LinearRegression"
      ]
    },
    {
      "cell_type": "markdown",
      "source": [
        "Dataset: Werbekosten und Einnahmen von Online-Shops (in 100)"
      ],
      "metadata": {
        "id": "xbI_B4xeOitn"
      }
    },
    {
      "cell_type": "code",
      "source": [
        "data = {'Einnahmen': [3400,3680,5560,6650,9540],\n",
        "        'Werbekosten': [15,17,22,28,50]\n",
        "        }\n",
        "dataset = pd.DataFrame(data)\n",
        "X = dataset[[\"Einnahmen\"]]\n",
        "Y = dataset[[\"Werbekosten\"]]"
      ],
      "metadata": {
        "id": "CGmNIWKkJyJq"
      },
      "execution_count": 2,
      "outputs": []
    },
    {
      "cell_type": "code",
      "source": [
        "regressor = LinearRegression()\n",
        "regressor.fit(X, Y)"
      ],
      "metadata": {
        "colab": {
          "base_uri": "https://localhost:8080/"
        },
        "id": "D7rdwXGaJyPy",
        "outputId": "134ecf65-1896-402a-9e81-84d78d3a0279"
      },
      "execution_count": 3,
      "outputs": [
        {
          "output_type": "execute_result",
          "data": {
            "text/plain": [
              "LinearRegression()"
            ]
          },
          "metadata": {},
          "execution_count": 3
        }
      ]
    },
    {
      "cell_type": "markdown",
      "source": [
        "Predict"
      ],
      "metadata": {
        "id": "1zwAn3eGPLdn"
      }
    },
    {
      "cell_type": "code",
      "source": [
        "y_pred = regressor.predict(X)\n",
        "y_pred"
      ],
      "metadata": {
        "colab": {
          "base_uri": "https://localhost:8080/"
        },
        "id": "tyGwwYA5JyTb",
        "outputId": "001a07e0-0ba7-4d08-9d07-75906592ea34"
      },
      "execution_count": 6,
      "outputs": [
        {
          "output_type": "execute_result",
          "data": {
            "text/plain": [
              "array([[13.35122672],\n",
              "       [14.89546024],\n",
              "       [25.26388534],\n",
              "       [31.27536584],\n",
              "       [47.21406186]])"
            ]
          },
          "metadata": {},
          "execution_count": 6
        }
      ]
    },
    {
      "cell_type": "markdown",
      "source": [
        "Plotting"
      ],
      "metadata": {
        "id": "q8zYVMl8PMWX"
      }
    },
    {
      "cell_type": "code",
      "source": [
        "plt.scatter(X, Y)\n",
        "plt.plot(X, regressor.predict(X))\n",
        "plt.show()"
      ],
      "metadata": {
        "colab": {
          "base_uri": "https://localhost:8080/",
          "height": 265
        },
        "id": "tc8tlgWWJyWT",
        "outputId": "0751f8fe-9f86-42e3-a66b-189db8ce836b"
      },
      "execution_count": 7,
      "outputs": [
        {
          "output_type": "display_data",
          "data": {
            "text/plain": [
              "<Figure size 432x288 with 1 Axes>"
            ],
            "image/png": "[encoded data removed]"
          },
          "metadata": {
            "needs_background": "light"
          }
        }
      ]
    }
  ]
}