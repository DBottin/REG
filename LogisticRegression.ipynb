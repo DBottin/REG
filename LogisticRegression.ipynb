{
  "cells": [
    {
      "cell_type": "code",
      "execution_count": 1,
      "metadata": {
        "id": "mHc3AnWssoSr"
      },
      "outputs": [],
      "source": [
        "%matplotlib inline\n",
        "import numpy as np\n",
        "from sklearn import datasets\n",
        "from sklearn.linear_model import LogisticRegression\n",
        "import matplotlib.pyplot as plt\n",
        "# http://scikit-learn.org/stable/modules/generated/sklearn.datasets.load_iris.html\n",
        "iris = datasets.load_iris()"
      ]
    },
    {
      "cell_type": "markdown",
      "source": [
        "Einlesen der Daten für die verschiedenen Größen:"
      ],
      "metadata": {
        "id": "AjGiZnnPDtVD"
      }
    },
    {
      "cell_type": "code",
      "execution_count": 2,
      "metadata": {
        "id": "jmV9lZH5soSs",
        "colab": {
          "base_uri": "https://localhost:8080/"
        },
        "outputId": "af24501e-e341-4055-e543-36d090f576d4"
      },
      "outputs": [
        {
          "output_type": "stream",
          "name": "stderr",
          "text": [
            "/usr/local/lib/python3.7/dist-packages/ipykernel_launcher.py:5: DeprecationWarning: `np.int` is a deprecated alias for the builtin `int`. To silence this warning, use `int` by itself. Doing this will not modify any behavior and is safe. When replacing `np.int`, you may wish to use e.g. `np.int64` or `np.int32` to specify the precision. If you wish to review your current use, check the release note link for additional information.\n",
            "Deprecated in NumPy 1.20; for more details and guidance: https://numpy.org/devdocs/release/1.20.0-notes.html#deprecations\n",
            "  \"\"\"\n"
          ]
        }
      ],
      "source": [
        "Xsl = iris[\"data\"][:, 0:1]  # sepal length array\n",
        "Xsw = iris[\"data\"][:, 1:2]  # sepal width array\n",
        "Xpl = iris[\"data\"][:, 2:3]  # petal length array\n",
        "Xpw = iris[\"data\"][:, 3:]  # petal width array\n",
        "y = (iris[\"target\"] == 2).astype(np.int)  # array of 1 if Iris-Virginica, else 0"
      ]
    },
    {
      "cell_type": "markdown",
      "metadata": {
        "id": "O7NnXVUnsoSt"
      },
      "source": [
        "Trainieren der Regressionsmodelle für alle 4 Größen:"
      ]
    },
    {
      "cell_type": "code",
      "execution_count": 3,
      "metadata": {
        "id": "hvlpG990soSt",
        "outputId": "916fd5ea-40e8-4010-a9cb-c684f7b19136",
        "colab": {
          "base_uri": "https://localhost:8080/"
        }
      },
      "outputs": [
        {
          "output_type": "execute_result",
          "data": {
            "text/plain": [
              "LogisticRegression()"
            ]
          },
          "metadata": {},
          "execution_count": 3
        }
      ],
      "source": [
        "log_regsl = LogisticRegression()\n",
        "log_regsl.fit(Xsl, y)\n",
        "\n",
        "log_regsw = LogisticRegression()\n",
        "log_regsw.fit(Xsw, y)\n",
        "\n",
        "log_regpl = LogisticRegression()\n",
        "log_regpl.fit(Xpl, y)\n",
        "\n",
        "log_regpw = LogisticRegression()\n",
        "log_regpw.fit(Xpw, y)"
      ]
    },
    {
      "cell_type": "markdown",
      "metadata": {
        "id": "0HLQeo95soSt"
      },
      "source": [
        "Visualisierung für Sepal length:"
      ]
    },
    {
      "cell_type": "code",
      "source": [
        "X_newsl = np.linspace(0, 8, 1000).reshape(-1, 1)\n",
        "y_probasl = log_regsl.predict_proba(X_newsl)\n",
        "decision_boundarysl = X_newsl[y_probasl[:, 1] >= 0.5][0]\n",
        "\n",
        "plt.plot(X_newsl, y_probasl[:, 1], \"g-\", label=\"Iris-Virginica\")\n",
        "plt.plot(X_newsl, y_probasl[:, 0], \"b--\", label=\"Not Iris-Virginica\")\n",
        "plt.legend(loc=\"center left\", fontsize=14)\n",
        "plt.xlabel(\"Sepal length (cm)\", fontsize=14)\n",
        "plt.ylabel(\"Probability\", fontsize=14)"
      ],
      "metadata": {
        "colab": {
          "base_uri": "https://localhost:8080/",
          "height": 301
        },
        "id": "CCaUvETB8XqX",
        "outputId": "fa44b02c-d1cf-4d63-fd68-c5e33357bb03"
      },
      "execution_count": 4,
      "outputs": [
        {
          "output_type": "execute_result",
          "data": {
            "text/plain": [
              "Text(0, 0.5, 'Probability')"
            ]
          },
          "metadata": {},
          "execution_count": 4
        },
        {
          "output_type": "display_data",
          "data": {
            "text/plain": [
              "<Figure size 432x288 with 1 Axes>"
            ],
            "image/png": "[encoded data removed]"
          },
          "metadata": {
            "needs_background": "light"
          }
        }
      ]
    },
    {
      "cell_type": "markdown",
      "source": [
        "Visualisierung für Sepal width:"
      ],
      "metadata": {
        "id": "Yu-VtUmYECo8"
      }
    },
    {
      "cell_type": "code",
      "source": [
        "X_newsw = np.linspace(0, 5, 1000).reshape(-1, 1)\n",
        "y_probasw = log_regsw.predict_proba(X_newsw)\n",
        "decision_boundarysw = X_newsw[y_probasw[:, 1] <= 0.5][0] # muss auf <= geändert werden, da kleine Größen hier keine Iris-Virginica sind\n",
        "\n",
        "plt.plot(X_newsw, y_probasw[:, 1], \"g-\", label=\"Iris-Virginica\")\n",
        "plt.plot(X_newsw, y_probasw[:, 0], \"b--\", label=\"Not Iris-Virginica\")\n",
        "plt.legend(loc=\"center right\", fontsize=13)\n",
        "plt.xlabel(\"Sepal width (cm)\", fontsize=14)\n",
        "plt.ylabel(\"Probability\", fontsize=14)"
      ],
      "metadata": {
        "colab": {
          "base_uri": "https://localhost:8080/",
          "height": 301
        },
        "id": "zIVaCU_w8XgV",
        "outputId": "3ee25484-2938-4591-cf40-e28911983072"
      },
      "execution_count": 5,
      "outputs": [
        {
          "output_type": "execute_result",
          "data": {
            "text/plain": [
              "Text(0, 0.5, 'Probability')"
            ]
          },
          "metadata": {},
          "execution_count": 5
        },
        {
          "output_type": "display_data",
          "data": {
            "text/plain": [
              "<Figure size 432x288 with 1 Axes>"
            ],
            "image/png": "[encoded data removed]"
          },
          "metadata": {
            "needs_background": "light"
          }
        }
      ]
    },
    {
      "cell_type": "markdown",
      "source": [
        "Visualisierung für Petal length:"
      ],
      "metadata": {
        "id": "5rxsAfBGEEv0"
      }
    },
    {
      "cell_type": "code",
      "source": [
        "X_newpl = np.linspace(0, 6, 1000).reshape(-1, 1)\n",
        "y_probapl = log_regpl.predict_proba(X_newpl)\n",
        "decision_boundarypl = X_newpl[y_probapl[:, 1] >= 0.5][0]\n",
        "\n",
        "plt.plot(X_newpl, y_probapl[:, 1], \"g-\", label=\"Iris-Virginica\")\n",
        "plt.plot(X_newpl, y_probapl[:, 0], \"b--\", label=\"Not Iris-Virginica\")\n",
        "plt.legend(loc=\"center left\", fontsize=14)\n",
        "plt.xlabel(\"Petal length (cm)\", fontsize=14)\n",
        "plt.ylabel(\"Probability\", fontsize=14)"
      ],
      "metadata": {
        "colab": {
          "base_uri": "https://localhost:8080/",
          "height": 301
        },
        "id": "lqSPR6NW8XVN",
        "outputId": "2d999adb-2eba-4345-b8d1-fbc66f3517c0"
      },
      "execution_count": 6,
      "outputs": [
        {
          "output_type": "execute_result",
          "data": {
            "text/plain": [
              "Text(0, 0.5, 'Probability')"
            ]
          },
          "metadata": {},
          "execution_count": 6
        },
        {
          "output_type": "display_data",
          "data": {
            "text/plain": [
              "<Figure size 432x288 with 1 Axes>"
            ],
            "image/png": "[encoded data removed]"
          },
          "metadata": {
            "needs_background": "light"
          }
        }
      ]
    },
    {
      "cell_type": "markdown",
      "source": [
        "Visualisierung für Petal width:"
      ],
      "metadata": {
        "id": "gqe50l7mEIWz"
      }
    },
    {
      "cell_type": "code",
      "execution_count": 7,
      "metadata": {
        "id": "JwWXguTusoSt",
        "outputId": "f877b5b8-7b9c-4083-fffe-c49ee856137d",
        "colab": {
          "base_uri": "https://localhost:8080/",
          "height": 301
        }
      },
      "outputs": [
        {
          "output_type": "execute_result",
          "data": {
            "text/plain": [
              "Text(0, 0.5, 'Probability')"
            ]
          },
          "metadata": {},
          "execution_count": 7
        },
        {
          "output_type": "display_data",
          "data": {
            "text/plain": [
              "<Figure size 432x288 with 1 Axes>"
            ],
            "image/png": "[encoded data removed]"
          },
          "metadata": {
            "needs_background": "light"
          }
        }
      ],
      "source": [
        "X_newpw = np.linspace(0, 3, 1000).reshape(-1, 1)\n",
        "y_probapw = log_regpw.predict_proba(X_newpw)\n",
        "decision_boundarypw = X_newpw[y_probapw[:, 1] >= 0.5][0]\n",
        "\n",
        "plt.plot(X_newpw, y_probapw[:, 1], \"g-\", label=\"Iris-Virginica\")\n",
        "plt.plot(X_newpw, y_probapw[:, 0], \"b--\", label=\"Not Iris-Virginica\")\n",
        "plt.legend(loc=\"center left\", fontsize=13)\n",
        "plt.xlabel(\"Petal width (cm)\", fontsize=14)\n",
        "plt.ylabel(\"Probability\", fontsize=14)"
      ]
    },
    {
      "cell_type": "markdown",
      "source": [
        "Predict für Sepal length:"
      ],
      "metadata": {
        "id": "sdGyS3UIENi7"
      }
    },
    {
      "cell_type": "code",
      "source": [
        "decision_boundarysl"
      ],
      "metadata": {
        "colab": {
          "base_uri": "https://localhost:8080/"
        },
        "id": "lkW-0LIy_V91",
        "outputId": "d837796f-50ae-469b-fe62-bdab5d06a496"
      },
      "execution_count": 8,
      "outputs": [
        {
          "output_type": "execute_result",
          "data": {
            "text/plain": [
              "array([6.32632633])"
            ]
          },
          "metadata": {},
          "execution_count": 8
        }
      ]
    },
    {
      "cell_type": "code",
      "execution_count": 9,
      "metadata": {
        "id": "rk7mhl6dsoSw",
        "outputId": "206e2816-958b-4a48-d8b0-c09d7a1ec0d3",
        "colab": {
          "base_uri": "https://localhost:8080/"
        }
      },
      "outputs": [
        {
          "output_type": "execute_result",
          "data": {
            "text/plain": [
              "array([0])"
            ]
          },
          "metadata": {},
          "execution_count": 9
        }
      ],
      "source": [
        "log_regsl.predict([[4.8]])"
      ]
    },
    {
      "cell_type": "markdown",
      "source": [
        "Predict für Sepal width:"
      ],
      "metadata": {
        "id": "OqK_GBh-EOSq"
      }
    },
    {
      "cell_type": "code",
      "source": [
        "decision_boundarysw"
      ],
      "metadata": {
        "colab": {
          "base_uri": "https://localhost:8080/"
        },
        "id": "y6-VYJNy_Zpc",
        "outputId": "6de6b096-aea8-4a57-d91a-32fc111d1e3d"
      },
      "execution_count": 10,
      "outputs": [
        {
          "output_type": "execute_result",
          "data": {
            "text/plain": [
              "array([1.85685686])"
            ]
          },
          "metadata": {},
          "execution_count": 10
        }
      ]
    },
    {
      "cell_type": "code",
      "source": [
        "log_regsw.predict([[2.5]])"
      ],
      "metadata": {
        "colab": {
          "base_uri": "https://localhost:8080/"
        },
        "id": "-SFDkNvwBiCM",
        "outputId": "132f2ffa-c56a-44e6-d27f-546e7c569bcf"
      },
      "execution_count": 11,
      "outputs": [
        {
          "output_type": "execute_result",
          "data": {
            "text/plain": [
              "array([0])"
            ]
          },
          "metadata": {},
          "execution_count": 11
        }
      ]
    },
    {
      "cell_type": "markdown",
      "source": [
        "Predict für Petal length:"
      ],
      "metadata": {
        "id": "dG4VOnIcEPda"
      }
    },
    {
      "cell_type": "code",
      "source": [
        "decision_boundarypl"
      ],
      "metadata": {
        "colab": {
          "base_uri": "https://localhost:8080/"
        },
        "id": "T1GC3SxW_acF",
        "outputId": "120bbcc6-ec52-410e-b8db-54103c4c9b71"
      },
      "execution_count": 12,
      "outputs": [
        {
          "output_type": "execute_result",
          "data": {
            "text/plain": [
              "array([4.87687688])"
            ]
          },
          "metadata": {},
          "execution_count": 12
        }
      ]
    },
    {
      "cell_type": "code",
      "source": [
        "log_regpl.predict([[5.3]])"
      ],
      "metadata": {
        "colab": {
          "base_uri": "https://localhost:8080/"
        },
        "id": "6d6xTqvBBh7T",
        "outputId": "98071e4e-cb69-4c1e-d92a-241626a8ddfb"
      },
      "execution_count": 13,
      "outputs": [
        {
          "output_type": "execute_result",
          "data": {
            "text/plain": [
              "array([1])"
            ]
          },
          "metadata": {},
          "execution_count": 13
        }
      ]
    },
    {
      "cell_type": "markdown",
      "source": [
        "Predict für Petal width:"
      ],
      "metadata": {
        "id": "tjjFJ29lEO0b"
      }
    },
    {
      "cell_type": "code",
      "execution_count": 14,
      "metadata": {
        "id": "WuauuUjcsoSw",
        "outputId": "194b8bd0-95c7-48de-c7b6-2ef16d543024",
        "colab": {
          "base_uri": "https://localhost:8080/"
        }
      },
      "outputs": [
        {
          "output_type": "execute_result",
          "data": {
            "text/plain": [
              "array([1.66066066])"
            ]
          },
          "metadata": {},
          "execution_count": 14
        }
      ],
      "source": [
        "decision_boundarypw"
      ]
    },
    {
      "cell_type": "code",
      "source": [
        "log_regpw.predict([[2.4]])"
      ],
      "metadata": {
        "colab": {
          "base_uri": "https://localhost:8080/"
        },
        "id": "zqPphESYBhy8",
        "outputId": "212ef097-bcb0-4a36-9cb5-e6e9f069f7e5"
      },
      "execution_count": 15,
      "outputs": [
        {
          "output_type": "execute_result",
          "data": {
            "text/plain": [
              "array([1])"
            ]
          },
          "metadata": {},
          "execution_count": 15
        }
      ]
    }
  ],
  "metadata": {
    "kernelspec": {
      "display_name": "Python 3",
      "language": "python",
      "name": "python3"
    },
    "language_info": {
      "codemirror_mode": {
        "name": "ipython",
        "version": 3
      },
      "file_extension": ".py",
      "mimetype": "text/x-python",
      "name": "python",
      "nbconvert_exporter": "python",
      "pygments_lexer": "ipython3",
      "version": "3.6.3"
    },
    "colab": {
      "name": "LogisticRegression.ipynb",
      "provenance": []
    }
  },
  "nbformat": 4,
  "nbformat_minor": 0
}